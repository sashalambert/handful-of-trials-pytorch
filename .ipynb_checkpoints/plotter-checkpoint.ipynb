{
 "cells": [
  {
   "cell_type": "markdown",
   "metadata": {},
   "source": [
    "# Plotting Tools"
   ]
  },
  {
   "cell_type": "code",
   "execution_count": 1,
   "metadata": {},
   "outputs": [],
   "source": [
    "import os\n",
    "import csv\n",
    "\n",
    "import numpy as np\n",
    "from scipy.io import loadmat, savemat\n",
    "import matplotlib.pyplot as plt"
   ]
  },
  {
   "cell_type": "markdown",
   "metadata": {},
   "source": [
    "### Basic plotting example"
   ]
  },
  {
   "cell_type": "code",
   "execution_count": 6,
   "metadata": {},
   "outputs": [
    {
     "name": "stdout",
     "output_type": "stream",
     "text": [
      "2020-06-28--14:50:08\n"
     ]
    },
    {
     "data": {
      "image/png": "[encoded data removed]",
      "text/plain": [
       "<Figure size 432x288 with 1 Axes>"
      ]
     },
     "metadata": {
      "needs_background": "light"
     },
     "output_type": "display_data"
    }
   ],
   "source": [
    "log_dir = None          # Directory specified in script, not including date+time\n",
    "min_num_trials = None   # Plots up to this many trials\n",
    "\n",
    "log_dir = '/home/sasha/devel/handful-of-trials-pytorch/log'\n",
    "min_num_trials = 15\n",
    "\n",
    "\n",
    "returns = []\n",
    "for subdir in os.listdir(log_dir):\n",
    "    print(subdir)\n",
    "    data = loadmat(os.path.join(log_dir, subdir, \"logs.mat\"))\n",
    "    if data[\"returns\"].shape[1] >= min_num_trials:\n",
    "        returns.append(data[\"returns\"][0][:min_num_trials])\n",
    "        \n",
    "returns = np.array(returns)\n",
    "returns = np.maximum.accumulate(returns, axis=-1)\n",
    "mean = np.mean(returns, axis=0)\n",
    "\n",
    "# Plot result\n",
    "plt.figure()\n",
    "plt.plot(np.arange(1, min_num_trials + 1), mean)\n",
    "plt.title(\"Performance\")\n",
    "plt.xlabel(\"Iteration number\")\n",
    "plt.ylabel(\"Return\")\n",
    "plt.show()"
   ]
  },
  {
   "cell_type": "code",
   "execution_count": null,
   "metadata": {},
   "outputs": [],
   "source": []
  }
 ],
 "metadata": {
  "kernelspec": {
   "display_name": "Python 3",
   "language": "python",
   "name": "python3"
  },
  "language_info": {
   "codemirror_mode": {
    "name": "ipython",
    "version": 3
   },
   "file_extension": ".py",
   "mimetype": "text/x-python",
   "name": "python",
   "nbconvert_exporter": "python",
   "pygments_lexer": "ipython3",
   "version": "3.7.7"
  }
 },
 "nbformat": 4,
 "nbformat_minor": 2
}
